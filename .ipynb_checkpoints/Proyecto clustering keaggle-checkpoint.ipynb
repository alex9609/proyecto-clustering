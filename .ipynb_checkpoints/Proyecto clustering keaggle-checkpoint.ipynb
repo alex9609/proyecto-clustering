{
 "cells": [
  {
   "cell_type": "markdown",
   "id": "80473b01",
   "metadata": {},
   "source": [
    "## Supermarket Customer Segmentation"
   ]
  },
  {
   "cell_type": "code",
   "execution_count": 4,
   "id": "4dac9496",
   "metadata": {},
   "outputs": [
    {
     "name": "stdout",
     "output_type": "stream",
     "text": [
      "Collecting yellowbrick\n",
      "  Downloading yellowbrick-1.5-py3-none-any.whl (282 kB)\n",
      "     ------------------------------------ 282.6/282.6 kB 328.5 kB/s eta 0:00:00\n",
      "Requirement already satisfied: scikit-learn>=1.0.0 in c:\\users\\alexa\\anaconda3\\lib\\site-packages (from yellowbrick) (1.0.2)\n",
      "Requirement already satisfied: matplotlib!=3.0.0,>=2.0.2 in c:\\users\\alexa\\anaconda3\\lib\\site-packages (from yellowbrick) (3.5.2)\n",
      "Requirement already satisfied: numpy>=1.16.0 in c:\\users\\alexa\\anaconda3\\lib\\site-packages (from yellowbrick) (1.21.5)\n",
      "Requirement already satisfied: cycler>=0.10.0 in c:\\users\\alexa\\anaconda3\\lib\\site-packages (from yellowbrick) (0.11.0)\n",
      "Requirement already satisfied: scipy>=1.0.0 in c:\\users\\alexa\\anaconda3\\lib\\site-packages (from yellowbrick) (1.9.1)\n",
      "Requirement already satisfied: packaging>=20.0 in c:\\users\\alexa\\anaconda3\\lib\\site-packages (from matplotlib!=3.0.0,>=2.0.2->yellowbrick) (21.3)\n",
      "Requirement already satisfied: pillow>=6.2.0 in c:\\users\\alexa\\anaconda3\\lib\\site-packages (from matplotlib!=3.0.0,>=2.0.2->yellowbrick) (9.2.0)\n",
      "Requirement already satisfied: python-dateutil>=2.7 in c:\\users\\alexa\\anaconda3\\lib\\site-packages (from matplotlib!=3.0.0,>=2.0.2->yellowbrick) (2.8.2)\n",
      "Requirement already satisfied: fonttools>=4.22.0 in c:\\users\\alexa\\anaconda3\\lib\\site-packages (from matplotlib!=3.0.0,>=2.0.2->yellowbrick) (4.25.0)\n",
      "Requirement already satisfied: pyparsing>=2.2.1 in c:\\users\\alexa\\anaconda3\\lib\\site-packages (from matplotlib!=3.0.0,>=2.0.2->yellowbrick) (3.0.9)\n",
      "Requirement already satisfied: kiwisolver>=1.0.1 in c:\\users\\alexa\\anaconda3\\lib\\site-packages (from matplotlib!=3.0.0,>=2.0.2->yellowbrick) (1.4.2)\n",
      "Requirement already satisfied: joblib>=0.11 in c:\\users\\alexa\\anaconda3\\lib\\site-packages (from scikit-learn>=1.0.0->yellowbrick) (1.1.0)\n",
      "Requirement already satisfied: threadpoolctl>=2.0.0 in c:\\users\\alexa\\anaconda3\\lib\\site-packages (from scikit-learn>=1.0.0->yellowbrick) (2.2.0)\n",
      "Requirement already satisfied: six>=1.5 in c:\\users\\alexa\\anaconda3\\lib\\site-packages (from python-dateutil>=2.7->matplotlib!=3.0.0,>=2.0.2->yellowbrick) (1.16.0)\n",
      "Installing collected packages: yellowbrick\n",
      "Successfully installed yellowbrick-1.5\n",
      "Note: you may need to restart the kernel to use updated packages.\n"
     ]
    }
   ],
   "source": [
    "pip install yellowbrick"
   ]
  },
  {
   "cell_type": "code",
   "execution_count": 5,
   "id": "9f373019",
   "metadata": {},
   "outputs": [],
   "source": [
    "import numpy as np\n",
    "import pandas as pd\n",
    "import matplotlib.pyplot as plt\n",
    "import seaborn as sns\n",
    "import plotly.express as px\n",
    "from sklearn.preprocessing import LabelEncoder, StandardScaler\n",
    "from sklearn.decomposition import PCA\n",
    "\n",
    "from sklearn.cluster import KMeans, DBSCAN, AgglomerativeClustering\n",
    "from yellowbrick.cluster import KElbowVisualizer\n",
    "from sklearn.metrics import davies_bouldin_score, silhouette_score\n",
    "from flask import Flask,jsonify,request,render_template\n",
    "\n",
    "%matplotlib inline\n",
    "\n",
    "np.random.seed(7)\n",
    "plt.rcParams['figure.figsize'] = (16, 6)\n",
    "# to change default colormap\n",
    "sns.set(style=\"darkgrid\")\n",
    "sns.set_palette(\"pastel\")"
   ]
  },
  {
   "cell_type": "markdown",
   "id": "e1bf2165",
   "metadata": {},
   "source": [
    "### 1. Introducción\n",
    "\n",
    "La inversión y gasto en publicidad es el mayor problema de todos los negocios. Uno de las mayores contribuciones para este gasto es cometer el error de seleccionar audiencias de manera equivocada.\n",
    "\n",
    "El objetivo de una campañia de publicidad es obtener la atención de muchos clientes. Además, de ser una estrategia para que muchas personas compren productos, y esto a su vez se convierta en retorno de dicha inversión.\n",
    "\n",
    "### 1.1 Acerca de este proyecto\n",
    "\n",
    "En este proyecto, exploraremos los datos recolectados por un supermercado sobre sus usuarios. Obtendremos algunos estadisticos sobre los clientes en general y sus habitos. Despues intetaremos dividir los clientes en segmentos usando varias tecnicas de clustering.\n",
    "\n",
    "Vamos a sumergirnos en los cluster con el fin de determinar el correcto algoritmo de clusterización.\n",
    "Al final del proyecto deberíamos de tener una descripción estadistica de varios segmentos de los clientes y sus habitos de consumo.\n",
    "\n",
    "Así el supermercado puede utilizar estos segmentos con el fin de ofrecer mejor sus productos.\n",
    "\n",
    "### 1.2 Acerca de los datos\n",
    "\n",
    "El conjunto de datos conitene una descripción de los clientes ideales de una compañia. Contiene 29 columnas sobre los habitos y demografia de los clientes. Las caracteristifas estan dividas en 5 categorias:\n",
    "\n",
    "#### Personas:\n",
    "\n",
    "1. ID: Identificacion unica del cliente\n",
    "2. Year_Birth: Año de nacimiento\n",
    "3. Education: Nivel educativo del cliente\n",
    "4. Marital_Status: Estado civil del cliente\n",
    "5. Income: Ingresos familiares anuales\n",
    "6. Kidhome: Número de niños en la familia\n",
    "7. Teenhome: Número de adolescentes en la familia\n",
    "8. Dt_Customer:  Fecha de creación del cliente en la empresa\n",
    "9. Recency: Número de días desde la última compra\n",
    "10. Complain: 1 si el cliente se ha quedado en los ultimos 2 años, 0 si no lo ha hecho\n",
    "\n",
    "#### Productos:\n",
    "\n",
    "11. MntWines: Cantidad gastada en vinos en los últimos 2 años\n",
    "12. MntFruits: Cantidad gastada en frutas en los últimos 2 años\n",
    "13. MntMeatProducts: Cantidad gastada en carne en los últimos 2 años\n",
    "14. MntFishProducts: Cantidad gastada en pescado en los últimos 2 años\n",
    "15. MntSweetProducts: Cantidad gastadas en dulces en los últimos 2 años\n",
    "16. MntGoldProds: Cantidad gastada en productos premium en los últimos 2 años\n",
    "\n",
    "#### Promociones: \n",
    "\n",
    "17. NumDealsPurchases: Número de compras hechso con descuento.\n",
    "18. AcceptedCmp1: 1 si el cliente acepto la oferta en la primera campaña y 0 de otra forma.\n",
    "19. AcceptedCmp2: 1 si el cliente acepto la oferta en la segunda campaña y 0 de otra forma.\n",
    "20. AcceptedCmp3: 1 si el cliente acepto la oferta en la tercer campaña y 0 de otra forma.\n",
    "21. AcceptedCmp4: 1 si el cliente acepto la oferta en la cuarta campaña y 0 de otra forma.\n",
    "22. AcceptedCmp5: 1 si el cliente acepto la oferta en la quinta campaña y 0 de otra forma.\n",
    "23. Response: 1 si el cliente acepto la oferta en la última campaña y 0 de otra forma.\n",
    "\n",
    "\n",
    "#### Lugares:\n",
    "\n",
    "24. NumWebPurchases: Número de compras hechas por medio del sitio web\n",
    "25. NumCatalogPurchases: Número de compras realizadas por catalogo\n",
    "26. NumStorePurchases: Número de compras hechas en las tiendas físicas.\n",
    "27. NumWebVisitsMonth: Número de visitas al sitio web de la compañia en el ultimo mes.\n",
    "\n",
    "#### Uncategorized:\n",
    "\n",
    "28. Z_CostContact\n",
    "29. Z_Revenue"
   ]
  },
  {
   "cell_type": "code",
   "execution_count": null,
   "id": "d08705a5",
   "metadata": {},
   "outputs": [],
   "source": []
  }
 ],
 "metadata": {
  "kernelspec": {
   "display_name": "Python 3 (ipykernel)",
   "language": "python",
   "name": "python3"
  },
  "language_info": {
   "codemirror_mode": {
    "name": "ipython",
    "version": 3
   },
   "file_extension": ".py",
   "mimetype": "text/x-python",
   "name": "python",
   "nbconvert_exporter": "python",
   "pygments_lexer": "ipython3",
   "version": "3.9.13"
  }
 },
 "nbformat": 4,
 "nbformat_minor": 5
}
